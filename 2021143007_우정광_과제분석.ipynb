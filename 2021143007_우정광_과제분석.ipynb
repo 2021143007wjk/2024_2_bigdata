{
 "cells": [
  {
   "cell_type": "code",
   "execution_count": 2,
   "metadata": {},
   "outputs": [],
   "source": [
    "import pandas as pd\n",
    "import numpy as np\n",
    "import seaborn as sns\n",
    "import matplotlib.pyplot as plt"
   ]
  },
  {
   "cell_type": "code",
   "execution_count": 4,
   "metadata": {},
   "outputs": [
    {
     "name": "stdout",
     "output_type": "stream",
     "text": [
      "   TOT1  SEX  AGE  EDU1  EDU2  JOB1  JOB2  JOB3  JOB4  JOB5  ...  Q46_8  \\\n",
      "0     3    1   59     4   5.0     1   1.0   7.0   NaN     2  ...    NaN   \n",
      "1     3    2   56     4   5.0     1   1.0   4.0   NaN     2  ...    NaN   \n",
      "2     3    1   27     6   5.0     1   1.0   3.0   NaN     2  ...    NaN   \n",
      "3     4    1   59     4   5.0     1   1.0   7.0   NaN     2  ...    NaN   \n",
      "4     4    2   54     4   5.0     2   NaN   NaN   1.0     2  ...    NaN   \n",
      "\n",
      "   Q46_9  Q46_T  Q47          WT2  D_AGE  D_INC  D_AREA1  AREA2_A  AREA2_B  \n",
      "0    NaN    NaN  NaN  1340.298701      4      4        1        1      NaN  \n",
      "1    NaN    NaN  NaN  1291.557265      4      4        1        1      NaN  \n",
      "2    NaN    NaN  NaN  1568.484487      1      4        1        1      NaN  \n",
      "3    NaN    NaN  NaN  1340.298701      4      5        1        1      NaN  \n",
      "4    NaN    NaN  NaN  1291.557265      4      5        1        1      NaN  \n",
      "\n",
      "[5 rows x 379 columns]\n",
      "   ï»¿SEX  AGE  EDU1 EDU2 EDU3  JOB1 JOB2 JOB3 JOB4  JOB5  ...  Q45A3  Q45A4  \\\n",
      "0       1   37     6         5     1    1    4          2  ...                 \n",
      "1       1   60     4         5     1    3    4          2  ...                 \n",
      "2       2   57     4         5     2              1     2  ...                 \n",
      "3       1   36     4         5     1    4    4          2  ...                 \n",
      "4       2   72     2         5     2              3     2  ...      3          \n",
      "\n",
      "   Q45A5 Q45A6  Q45A7 Q45A8 Q45A9 Q45_T Q46          WT2  \n",
      "0                                            1633.763524  \n",
      "1                                         1  1232.809816  \n",
      "2                                            1424.978344  \n",
      "3                                            1633.763524  \n",
      "4                                         2  1295.736842  \n",
      "\n",
      "[5 rows x 362 columns]\n"
     ]
    }
   ],
   "source": [
    "internet_data_2023 = pd.read_excel('C:/Users/User/Downloads/자료/한국지능정보사회진흥원_인터넷이용실태조사 통계자료_20231231/데이터/DATA_2023_인터넷_가구원_240320_외부제공용.xlsx')\n",
    "internet_data_2021 = pd.read_csv('C:/Users/User/Downloads/자료/한국지능정보사회진흥원_2021년 인터넷이용실태조사 통계자료_20220901/한국지능정보사회진흥원_2021년 인터넷이용실태조사 통계자료_20220901/2021년 인터넷용실태조사_가구원_220901.csv', encoding='unicode_escape')\n",
    "\n",
    "\n",
    "print(internet_data_2023.head())\n",
    "print(internet_data_2021.head())\n",
    "\n"
   ]
  },
  {
   "cell_type": "code",
   "execution_count": 5,
   "metadata": {},
   "outputs": [
    {
     "name": "stdout",
     "output_type": "stream",
     "text": [
      "<class 'pandas.core.frame.DataFrame'>\n",
      "RangeIndex: 59249 entries, 0 to 59248\n",
      "Columns: 379 entries, TOT1 to AREA2_B\n",
      "dtypes: float64(340), int64(13), object(26)\n",
      "memory usage: 171.3+ MB\n",
      "None\n",
      "<class 'pandas.core.frame.DataFrame'>\n",
      "RangeIndex: 60305 entries, 0 to 60304\n",
      "Columns: 362 entries, ï»¿SEX to WT2\n",
      "dtypes: float64(1), int64(10), object(351)\n",
      "memory usage: 166.6+ MB\n",
      "None\n",
      "               TOT1          SEX           AGE          EDU1          EDU2  \\\n",
      "count  59249.000000  59249.00000  59249.000000  59249.000000  55851.000000   \n",
      "mean       2.978346      1.51984     43.132188      4.202721      4.312367   \n",
      "std        1.091336      0.49961     21.055176      1.603231      1.494223   \n",
      "min        1.000000      1.00000      3.000000      0.000000      1.000000   \n",
      "25%        2.000000      1.00000     28.000000      3.000000      5.000000   \n",
      "50%        3.000000      2.00000     44.000000      4.000000      5.000000   \n",
      "75%        4.000000      2.00000     60.000000      6.000000      5.000000   \n",
      "max        7.000000      2.00000    102.000000      8.000000      5.000000   \n",
      "\n",
      "               JOB1          JOB2          JOB3          JOB4          JOB5  \\\n",
      "count  59249.000000  36776.000000  36776.000000  22473.000000  59249.000000   \n",
      "mean       1.379298      1.524418      4.732271      1.936769      1.896825   \n",
      "std        0.485216      0.959267      1.935506      0.764010      0.304190   \n",
      "min        1.000000      1.000000      1.000000      1.000000      1.000000   \n",
      "25%        1.000000      1.000000      3.000000      1.000000      2.000000   \n",
      "50%        1.000000      1.000000      4.000000      2.000000      2.000000   \n",
      "75%        2.000000      1.000000      6.000000      3.000000      2.000000   \n",
      "max        2.000000      4.000000     10.000000      3.000000      2.000000   \n",
      "\n",
      "       ...  Q46_7  Q46_8  Q46_9          Q47           WT2         D_AGE  \\\n",
      "count  ...   86.0   42.0   31.0  3185.000000  59249.000000  59249.000000   \n",
      "mean   ...    7.0    8.0    9.0     1.729042    857.222181      2.975122   \n",
      "std    ...    0.0    0.0    0.0     0.444524    439.447835      1.552666   \n",
      "min    ...    7.0    8.0    9.0     1.000000    200.960784      1.000000   \n",
      "25%    ...    7.0    8.0    9.0     1.000000    537.116477      1.000000   \n",
      "50%    ...    7.0    8.0    9.0     2.000000    732.675676      3.000000   \n",
      "75%    ...    7.0    8.0    9.0     2.000000   1063.226891      5.000000   \n",
      "max    ...    7.0    8.0    9.0     2.000000   2547.065306      5.000000   \n",
      "\n",
      "              D_INC       D_AREA1       AREA2_A       AREA2_B  \n",
      "count  59249.000000  59249.000000  59249.000000  20480.000000  \n",
      "mean       3.894699      1.210974      7.924387     12.164697  \n",
      "std        1.332132      0.408003      4.965254      2.134092  \n",
      "min        1.000000      1.000000      1.000000      9.500000  \n",
      "25%        3.000000      1.000000      3.000000      9.500000  \n",
      "50%        4.000000      1.000000      8.000000     12.500000  \n",
      "75%        5.000000      1.000000     12.000000     14.500000  \n",
      "max        5.000000      2.000000     17.000000     14.500000  \n",
      "\n",
      "[8 rows x 353 columns]\n",
      "             ï»¿SEX           AGE          EDU1          JOB1          JOB5  \\\n",
      "count  60305.000000  60305.000000  60305.000000  60305.000000  60305.000000   \n",
      "mean       1.519758     45.443711      4.137136      1.413896      1.934815   \n",
      "std        0.499614     20.851497      1.625314      0.492534      0.246855   \n",
      "min        1.000000      3.000000      0.000000      1.000000      1.000000   \n",
      "25%        1.000000     30.000000      3.000000      1.000000      2.000000   \n",
      "50%        2.000000     48.000000      4.000000      1.000000      2.000000   \n",
      "75%        2.000000     61.000000      6.000000      2.000000      2.000000   \n",
      "max        2.000000    101.000000      8.000000      2.000000      2.000000   \n",
      "\n",
      "               H_DM          SIDO            Q1            Q3            Q5  \\\n",
      "count  60305.000000  60305.000000  60305.000000  60305.000000  60305.000000   \n",
      "mean       1.276528     28.045137      2.912047      1.065583      1.495813   \n",
      "std        0.447285      8.235024      2.437285      0.393795      1.580914   \n",
      "min        1.000000     11.000000      1.000000      1.000000      1.000000   \n",
      "25%        1.000000     23.000000      1.000000      1.000000      1.000000   \n",
      "50%        1.000000     31.000000      1.000000      1.000000      1.000000   \n",
      "75%        2.000000     35.000000      6.000000      1.000000      1.000000   \n",
      "max        2.000000     39.000000      7.000000      7.000000      7.000000   \n",
      "\n",
      "                WT2  \n",
      "count  60305.000000  \n",
      "mean     844.111881  \n",
      "std      490.337819  \n",
      "min      133.322034  \n",
      "25%      527.148026  \n",
      "50%      699.241071  \n",
      "75%     1070.981395  \n",
      "max     5452.583333  \n"
     ]
    }
   ],
   "source": [
    "print(internet_data_2023.info())\n",
    "print(internet_data_2021.info())\n",
    "print(internet_data_2023.describe())\n",
    "print(internet_data_2021.describe())"
   ]
  },
  {
   "cell_type": "code",
   "execution_count": 6,
   "metadata": {},
   "outputs": [],
   "source": [
    "plt.rcParams.update({'figure.dpi' :'150'})\n",
    "plt.rcParams.update({'figure.figsize':[6,4]})\n",
    "plt.rcParams.update({'font.size':6})\n",
    "plt.rcParams.update({'font.family':'Malgun Gothic'})\n",
    "# 보여줄 그래프의 세부조정"
   ]
  },
  {
   "cell_type": "code",
   "execution_count": 7,
   "metadata": {},
   "outputs": [
    {
     "name": "stdout",
     "output_type": "stream",
     "text": [
      "Index(['TOT1', 'SEX', 'AGE', 'EDU1', 'EDU2', 'JOB1', 'JOB2', 'JOB3', 'JOB4',\n",
      "       'JOB5',\n",
      "       ...\n",
      "       'Q46_8', 'Q46_9', 'Q46_T', 'Q47', 'WT2', 'D_AGE', 'D_INC', 'D_AREA1',\n",
      "       'AREA2_A', 'AREA2_B'],\n",
      "      dtype='object', length=379)\n",
      "Index(['ï»¿SEX', 'AGE', 'EDU1', 'EDU2', 'EDU3', 'JOB1', 'JOB2', 'JOB3', 'JOB4',\n",
      "       'JOB5',\n",
      "       ...\n",
      "       'Q45A3', 'Q45A4', 'Q45A5', 'Q45A6', 'Q45A7', 'Q45A8', 'Q45A9', 'Q45_T',\n",
      "       'Q46', 'WT2'],\n",
      "      dtype='object', length=362)\n"
     ]
    }
   ],
   "source": [
    "print(internet_data_2023.columns)\n",
    "print(internet_data_2021.columns)"
   ]
  },
  {
   "cell_type": "code",
   "execution_count": 8,
   "metadata": {},
   "outputs": [
    {
     "name": "stdout",
     "output_type": "stream",
     "text": [
      "   TOT1  SEX  AGE  교육  이수여부  JOB1  JOB2  JOB3  JOB4  JOB5  ...  Q46_8  Q46_9  \\\n",
      "0     3    1   59   4   5.0     1   1.0   7.0   NaN     2  ...    NaN    NaN   \n",
      "1     3    2   56   4   5.0     1   1.0   4.0   NaN     2  ...    NaN    NaN   \n",
      "2     3    1   27   6   5.0     1   1.0   3.0   NaN     2  ...    NaN    NaN   \n",
      "3     4    1   59   4   5.0     1   1.0   7.0   NaN     2  ...    NaN    NaN   \n",
      "4     4    2   54   4   5.0     2   NaN   NaN   1.0     2  ...    NaN    NaN   \n",
      "\n",
      "   Q46_T  Q47          WT2  D_AGE  D_INC  D_AREA1  AREA2_A  AREA2_B  \n",
      "0    NaN  NaN  1340.298701      4      4        1        1      NaN  \n",
      "1    NaN  NaN  1291.557265      4      4        1        1      NaN  \n",
      "2    NaN  NaN  1568.484487      1      4        1        1      NaN  \n",
      "3    NaN  NaN  1340.298701      4      5        1        1      NaN  \n",
      "4    NaN  NaN  1291.557265      4      5        1        1      NaN  \n",
      "\n",
      "[5 rows x 379 columns]\n"
     ]
    }
   ],
   "source": [
    "r_internet_data_2023 = internet_data_2023.rename(columns={'EDU1'    : '교육',\n",
    "                                                          'EDU2'    : '이수여부',\n",
    "                                                          'Q2'      : '컴퓨터이용빈도',\n",
    "                                                          'Q11'     : '스마트폰이용빈도',\n",
    "                                                          'Q12A1A2' : 'PC SNS이용',\n",
    "                                                          'Q12A1B2' : 'SP SNS이용',\n",
    "                                                          'Q12A3A3' : 'PC 동영상및 이미지 시청',\n",
    "                                                          'Q12A3A4' : 'PC 게임이용',\n",
    "                                                          'Q12A3B3' : 'SP 동영상및 이미지 시청',\n",
    "                                                          'Q12A3B4' : 'SP 게임이용',\n",
    "                                                          'Q38B5'   : '게임기이용'\n",
    "                                                          })\n",
    "\n",
    "r_internet_data_2021 = internet_data_2021.rename(columns={'EDU1'   : '교육',\n",
    "                                                          'EDU3'   : '이수여부',\n",
    "                                                          'Q2'     : '컴퓨터이용빈도',\n",
    "                                                          'Q11'    : '스마트폰이용빈도',\n",
    "                                                          'Q12A1A2': 'PC SNS이용',\n",
    "                                                          'Q12A1B2': 'SP SNS이용',\n",
    "                                                          'Q12A3A3': 'PC 동영상및 이미지 시청',\n",
    "                                                          'Q12A3A4': 'PC 게임이용',\n",
    "                                                          'Q12A3B3': 'SP 동영상및 이미지 시청',\n",
    "                                                          'Q12A3B4': 'SP 게임이용',\n",
    "                                                          'Q38B5'  : '게임기이용'\n",
    "                                                          })\n",
    "print(r_internet_data_2023.head())"
   ]
  },
  {
   "cell_type": "code",
   "execution_count": 9,
   "metadata": {},
   "outputs": [
    {
     "data": {
      "text/html": [
       "<div>\n",
       "<style scoped>\n",
       "    .dataframe tbody tr th:only-of-type {\n",
       "        vertical-align: middle;\n",
       "    }\n",
       "\n",
       "    .dataframe tbody tr th {\n",
       "        vertical-align: top;\n",
       "    }\n",
       "\n",
       "    .dataframe thead th {\n",
       "        text-align: right;\n",
       "    }\n",
       "</style>\n",
       "<table border=\"1\" class=\"dataframe\">\n",
       "  <thead>\n",
       "    <tr style=\"text-align: right;\">\n",
       "      <th></th>\n",
       "      <th>교육</th>\n",
       "      <th>이수여부</th>\n",
       "      <th>컴퓨터이용빈도</th>\n",
       "      <th>스마트폰이용빈도</th>\n",
       "    </tr>\n",
       "  </thead>\n",
       "  <tbody>\n",
       "    <tr>\n",
       "      <th>0</th>\n",
       "      <td>6</td>\n",
       "      <td>5</td>\n",
       "      <td>2</td>\n",
       "      <td>1</td>\n",
       "    </tr>\n",
       "    <tr>\n",
       "      <th>1</th>\n",
       "      <td>4</td>\n",
       "      <td>5</td>\n",
       "      <td></td>\n",
       "      <td></td>\n",
       "    </tr>\n",
       "    <tr>\n",
       "      <th>2</th>\n",
       "      <td>4</td>\n",
       "      <td>5</td>\n",
       "      <td></td>\n",
       "      <td>1</td>\n",
       "    </tr>\n",
       "    <tr>\n",
       "      <th>3</th>\n",
       "      <td>4</td>\n",
       "      <td>5</td>\n",
       "      <td>2</td>\n",
       "      <td>1</td>\n",
       "    </tr>\n",
       "    <tr>\n",
       "      <th>4</th>\n",
       "      <td>2</td>\n",
       "      <td>5</td>\n",
       "      <td></td>\n",
       "      <td></td>\n",
       "    </tr>\n",
       "  </tbody>\n",
       "</table>\n",
       "</div>"
      ],
      "text/plain": [
       "   교육 이수여부 컴퓨터이용빈도 스마트폰이용빈도\n",
       "0   6    5       2        1\n",
       "1   4    5                 \n",
       "2   4    5                1\n",
       "3   4    5       2        1\n",
       "4   2    5                 "
      ]
     },
     "execution_count": 9,
     "metadata": {},
     "output_type": "execute_result"
    }
   ],
   "source": [
    "select_internet_data_2021 = r_internet_data_2021[['교육','이수여부','컴퓨터이용빈도','스마트폰이용빈도']]\n",
    "select_internet_data_2023 = r_internet_data_2023[['교육','이수여부','컴퓨터이용빈도','스마트폰이용빈도']]\n",
    "select_internet_data_2021.head()"
   ]
  },
  {
   "cell_type": "code",
   "execution_count": 10,
   "metadata": {},
   "outputs": [
    {
     "name": "stdout",
     "output_type": "stream",
     "text": [
      "  교육 이수여부 컴퓨터이용빈도 스마트폰이용빈도\n",
      "0  0    0       0       매일\n",
      "1  0    0      종종       매일\n",
      "2  0    0      매일       매일\n",
      "3  0    0      매일       매일\n",
      "4  0    0      매일       매일\n",
      "59249\n"
     ]
    },
    {
     "name": "stderr",
     "output_type": "stream",
     "text": [
      "C:\\Users\\User\\AppData\\Local\\Temp\\ipykernel_27980\\227049780.py:1: SettingWithCopyWarning: \n",
      "A value is trying to be set on a copy of a slice from a DataFrame.\n",
      "Try using .loc[row_indexer,col_indexer] = value instead\n",
      "\n",
      "See the caveats in the documentation: https://pandas.pydata.org/pandas-docs/stable/user_guide/indexing.html#returning-a-view-versus-a-copy\n",
      "  select_internet_data_2023['교육'] =  np.where(select_internet_data_2023['교육'] == 2, 'ele', 0)\n",
      "C:\\Users\\User\\AppData\\Local\\Temp\\ipykernel_27980\\227049780.py:2: SettingWithCopyWarning: \n",
      "A value is trying to be set on a copy of a slice from a DataFrame.\n",
      "Try using .loc[row_indexer,col_indexer] = value instead\n",
      "\n",
      "See the caveats in the documentation: https://pandas.pydata.org/pandas-docs/stable/user_guide/indexing.html#returning-a-view-versus-a-copy\n",
      "  select_internet_data_2023['이수여부'] = np.where(select_internet_data_2023['이수여부'] == 1, 'yes', 0)\n",
      "C:\\Users\\User\\AppData\\Local\\Temp\\ipykernel_27980\\227049780.py:3: SettingWithCopyWarning: \n",
      "A value is trying to be set on a copy of a slice from a DataFrame.\n",
      "Try using .loc[row_indexer,col_indexer] = value instead\n",
      "\n",
      "See the caveats in the documentation: https://pandas.pydata.org/pandas-docs/stable/user_guide/indexing.html#returning-a-view-versus-a-copy\n",
      "  select_internet_data_2023['컴퓨터이용빈도'] = np.where(select_internet_data_2023['컴퓨터이용빈도'] == 1, '매일', np.where(select_internet_data_2023['컴퓨터이용빈도'] == 2, '종종', np.where(select_internet_data_2023['컴퓨터이용빈도'] == 3, '가끔', 0)))\n",
      "C:\\Users\\User\\AppData\\Local\\Temp\\ipykernel_27980\\227049780.py:4: SettingWithCopyWarning: \n",
      "A value is trying to be set on a copy of a slice from a DataFrame.\n",
      "Try using .loc[row_indexer,col_indexer] = value instead\n",
      "\n",
      "See the caveats in the documentation: https://pandas.pydata.org/pandas-docs/stable/user_guide/indexing.html#returning-a-view-versus-a-copy\n",
      "  select_internet_data_2023['스마트폰이용빈도'] = np.where(select_internet_data_2023['스마트폰이용빈도'] == 1, '매일', np.where(select_internet_data_2023['스마트폰이용빈도'] == 2, '종종', np.where(select_internet_data_2023['스마트폰이용빈도'] == 3, '가끔', 0)))\n"
     ]
    }
   ],
   "source": [
    "select_internet_data_2023['교육'] =  np.where(select_internet_data_2023['교육'] == 2, 'ele', 0)\n",
    "select_internet_data_2023['이수여부'] = np.where(select_internet_data_2023['이수여부'] == 1, 'yes', 0)\n",
    "select_internet_data_2023['컴퓨터이용빈도'] = np.where(select_internet_data_2023['컴퓨터이용빈도'] == 1, '매일', np.where(select_internet_data_2023['컴퓨터이용빈도'] == 2, '종종', np.where(select_internet_data_2023['컴퓨터이용빈도'] == 3, '가끔', 0)))\n",
    "select_internet_data_2023['스마트폰이용빈도'] = np.where(select_internet_data_2023['스마트폰이용빈도'] == 1, '매일', np.where(select_internet_data_2023['스마트폰이용빈도'] == 2, '종종', np.where(select_internet_data_2023['스마트폰이용빈도'] == 3, '가끔', 0)))\n",
    "\n",
    "print(select_internet_data_2023.head())\n",
    "print(select_internet_data_2023.__len__())"
   ]
  },
  {
   "cell_type": "code",
   "execution_count": 11,
   "metadata": {},
   "outputs": [
    {
     "name": "stdout",
     "output_type": "stream",
     "text": [
      "2814\n"
     ]
    }
   ],
   "source": [
    "ele_data_2023 = select_internet_data_2023.drop(select_internet_data_2023[select_internet_data_2023['교육'] == '0'].index, axis=0)\n",
    "ele_data_2023 = ele_data_2023.drop(ele_data_2023[ele_data_2023['이수여부'] == '0'].index, axis=0)\n",
    "ele_data_2023 = ele_data_2023.drop(ele_data_2023[ele_data_2023['컴퓨터이용빈도'] == '0'].index, axis=0)\n",
    "ele_data_2023 = ele_data_2023.drop(ele_data_2023[ele_data_2023['스마트폰이용빈도'] == '0'].index, axis=0)\n",
    "\n",
    "print(ele_data_2023.__len__())"
   ]
  },
  {
   "cell_type": "code",
   "execution_count": 37,
   "metadata": {},
   "outputs": [
    {
     "name": "stdout",
     "output_type": "stream",
     "text": [
      "  컴퓨터이용빈도    교육  이수여부  스마트폰이용빈도\n",
      "0      가끔   213   213       213\n",
      "1      매일  1627  1627      1627\n",
      "2      종종   974   974       974\n",
      "  스마트폰이용빈도    교육  이수여부  컴퓨터이용빈도\n",
      "0       가끔    18    18       18\n",
      "1       매일  2596  2596     2596\n",
      "2       종종   200   200      200\n"
     ]
    }
   ],
   "source": [
    "pc_2023 = ele_data_2023.groupby(['컴퓨터이용빈도'], as_index=False).count()\n",
    "\n",
    "sp_2023 = ele_data_2023.groupby(['스마트폰이용빈도'], as_index=False).count()\n",
    "print(pc_2023)\n",
    "print(sp_2023)"
   ]
  },
  {
   "cell_type": "code",
   "execution_count": null,
   "metadata": {},
   "outputs": [
    {
     "name": "stdout",
     "output_type": "stream",
     "text": [
      "  컴퓨터이용빈도    교육  이수여부  스마트폰이용빈도\n",
      "0      가끔   108   108       108\n",
      "1      매일  1461  1461      1461\n",
      "2      종종   819   819       819\n",
      "  스마트폰이용빈도    교육  이수여부  컴퓨터이용빈도\n",
      "0       가끔    13    13       13\n",
      "1       매일  2234  2234     2234\n",
      "2       종종   141   141      141\n"
     ]
    },
    {
     "name": "stderr",
     "output_type": "stream",
     "text": [
      "C:\\Users\\User\\AppData\\Local\\Temp\\ipykernel_27980\\3344430837.py:8: SettingWithCopyWarning: \n",
      "A value is trying to be set on a copy of a slice from a DataFrame.\n",
      "Try using .loc[row_indexer,col_indexer] = value instead\n",
      "\n",
      "See the caveats in the documentation: https://pandas.pydata.org/pandas-docs/stable/user_guide/indexing.html#returning-a-view-versus-a-copy\n",
      "  select_internet_data_2021['교육'] =  np.where(select_internet_data_2021['교육'] == 2, 'ele', 0)\n",
      "C:\\Users\\User\\AppData\\Local\\Temp\\ipykernel_27980\\3344430837.py:9: SettingWithCopyWarning: \n",
      "A value is trying to be set on a copy of a slice from a DataFrame.\n",
      "Try using .loc[row_indexer,col_indexer] = value instead\n",
      "\n",
      "See the caveats in the documentation: https://pandas.pydata.org/pandas-docs/stable/user_guide/indexing.html#returning-a-view-versus-a-copy\n",
      "  select_internet_data_2021['이수여부'] = np.where(select_internet_data_2021['이수여부'] == '1', 'yes', 0)\n",
      "C:\\Users\\User\\AppData\\Local\\Temp\\ipykernel_27980\\3344430837.py:10: SettingWithCopyWarning: \n",
      "A value is trying to be set on a copy of a slice from a DataFrame.\n",
      "Try using .loc[row_indexer,col_indexer] = value instead\n",
      "\n",
      "See the caveats in the documentation: https://pandas.pydata.org/pandas-docs/stable/user_guide/indexing.html#returning-a-view-versus-a-copy\n",
      "  select_internet_data_2021['컴퓨터이용빈도'] = np.where(select_internet_data_2021['컴퓨터이용빈도'] == '1', '매일', np.where(select_internet_data_2021['컴퓨터이용빈도'] == '2', '종종', np.where(select_internet_data_2021['컴퓨터이용빈도'] == '3', '가끔', 0)))\n",
      "C:\\Users\\User\\AppData\\Local\\Temp\\ipykernel_27980\\3344430837.py:11: SettingWithCopyWarning: \n",
      "A value is trying to be set on a copy of a slice from a DataFrame.\n",
      "Try using .loc[row_indexer,col_indexer] = value instead\n",
      "\n",
      "See the caveats in the documentation: https://pandas.pydata.org/pandas-docs/stable/user_guide/indexing.html#returning-a-view-versus-a-copy\n",
      "  select_internet_data_2021['스마트폰이용빈도'] = np.where(select_internet_data_2021['스마트폰이용빈도'] == '1', '매일', np.where(select_internet_data_2021['스마트폰이용빈도'] == '2', '종종', np.where(select_internet_data_2021['스마트폰이용빈도'] == '3', '가끔', 0)))\n"
     ]
    }
   ],
   "source": [
    "select_internet_data_2021 = r_internet_data_2021[['교육','이수여부','컴퓨터이용빈도','스마트폰이용빈도']]\n",
    "\n",
    "\n",
    "select_internet_data_2021['교육'] =  np.where(select_internet_data_2021['교육'] == 2, 'ele', 0)\n",
    "select_internet_data_2021['이수여부'] = np.where(select_internet_data_2021['이수여부'] == '1', 'yes', 0)\n",
    "select_internet_data_2021['컴퓨터이용빈도'] = np.where(select_internet_data_2021['컴퓨터이용빈도'] == '1', '매일', np.where(select_internet_data_2021['컴퓨터이용빈도'] == '2', '종종', np.where(select_internet_data_2021['컴퓨터이용빈도'] == '3', '가끔', 0)))\n",
    "select_internet_data_2021['스마트폰이용빈도'] = np.where(select_internet_data_2021['스마트폰이용빈도'] == '1', '매일', np.where(select_internet_data_2021['스마트폰이용빈도'] == '2', '종종', np.where(select_internet_data_2021['스마트폰이용빈도'] == '3', '가끔', 0)))\n",
    "\n",
    "ele_data_2021 = select_internet_data_2021.drop(select_internet_data_2021[select_internet_data_2021['교육'] == '0'].index, axis=0)\n",
    "\n",
    "\n",
    "ele_data_2021 = ele_data_2021.drop(ele_data_2021[ele_data_2021['이수여부'] == '0'].index, axis=0)\n",
    "ele_data_2021 = ele_data_2021.drop(ele_data_2021[ele_data_2021['컴퓨터이용빈도'] == '0'].index, axis=0)\n",
    "ele_data_2021 = ele_data_2021.drop(ele_data_2021[ele_data_2021['스마트폰이용빈도'] == '0'].index, axis=0)\n",
    "\n",
    "\n",
    "\n",
    "pc_2021 = ele_data_2021.groupby(['컴퓨터이용빈도'], as_index=False).count()\n",
    "\n",
    "sp_2021 = ele_data_2021.groupby(['스마트폰이용빈도'], as_index=False).count()\n",
    "print(pc_2021)\n",
    "print(sp_2021)"
   ]
  },
  {
   "cell_type": "code",
   "execution_count": 39,
   "metadata": {},
   "outputs": [
    {
     "data": {
      "text/html": [
       "<div>\n",
       "<style scoped>\n",
       "    .dataframe tbody tr th:only-of-type {\n",
       "        vertical-align: middle;\n",
       "    }\n",
       "\n",
       "    .dataframe tbody tr th {\n",
       "        vertical-align: top;\n",
       "    }\n",
       "\n",
       "    .dataframe thead th {\n",
       "        text-align: right;\n",
       "    }\n",
       "</style>\n",
       "<table border=\"1\" class=\"dataframe\">\n",
       "  <thead>\n",
       "    <tr style=\"text-align: right;\">\n",
       "      <th></th>\n",
       "      <th>스마트폰이용빈도</th>\n",
       "      <th>교육</th>\n",
       "      <th>이수여부</th>\n",
       "      <th>컴퓨터이용빈도</th>\n",
       "      <th>year</th>\n",
       "      <th>mc</th>\n",
       "    </tr>\n",
       "  </thead>\n",
       "  <tbody>\n",
       "    <tr>\n",
       "      <th>0</th>\n",
       "      <td>가끔</td>\n",
       "      <td>13</td>\n",
       "      <td>13</td>\n",
       "      <td>13</td>\n",
       "      <td>2021</td>\n",
       "      <td>sp</td>\n",
       "    </tr>\n",
       "    <tr>\n",
       "      <th>1</th>\n",
       "      <td>매일</td>\n",
       "      <td>2234</td>\n",
       "      <td>2234</td>\n",
       "      <td>2234</td>\n",
       "      <td>2021</td>\n",
       "      <td>sp</td>\n",
       "    </tr>\n",
       "    <tr>\n",
       "      <th>2</th>\n",
       "      <td>종종</td>\n",
       "      <td>141</td>\n",
       "      <td>141</td>\n",
       "      <td>141</td>\n",
       "      <td>2021</td>\n",
       "      <td>sp</td>\n",
       "    </tr>\n",
       "    <tr>\n",
       "      <th>0</th>\n",
       "      <td>가끔</td>\n",
       "      <td>18</td>\n",
       "      <td>18</td>\n",
       "      <td>18</td>\n",
       "      <td>2023</td>\n",
       "      <td>sp</td>\n",
       "    </tr>\n",
       "    <tr>\n",
       "      <th>1</th>\n",
       "      <td>매일</td>\n",
       "      <td>2596</td>\n",
       "      <td>2596</td>\n",
       "      <td>2596</td>\n",
       "      <td>2023</td>\n",
       "      <td>sp</td>\n",
       "    </tr>\n",
       "    <tr>\n",
       "      <th>2</th>\n",
       "      <td>종종</td>\n",
       "      <td>200</td>\n",
       "      <td>200</td>\n",
       "      <td>200</td>\n",
       "      <td>2023</td>\n",
       "      <td>sp</td>\n",
       "    </tr>\n",
       "  </tbody>\n",
       "</table>\n",
       "</div>"
      ],
      "text/plain": [
       "  스마트폰이용빈도    교육  이수여부  컴퓨터이용빈도  year  mc\n",
       "0       가끔    13    13       13  2021  sp\n",
       "1       매일  2234  2234     2234  2021  sp\n",
       "2       종종   141   141      141  2021  sp\n",
       "0       가끔    18    18       18  2023  sp\n",
       "1       매일  2596  2596     2596  2023  sp\n",
       "2       종종   200   200      200  2023  sp"
      ]
     },
     "execution_count": 39,
     "metadata": {},
     "output_type": "execute_result"
    }
   ],
   "source": [
    "sp_2021['year'] = '2021'\n",
    "sp_2021['mc'] = 'sp'\n",
    "sp_2023['year'] = '2023'\n",
    "sp_2023['mc'] = 'sp'\n",
    "pc_2021['year'] = '2021'\n",
    "pc_2021['mc'] = 'pc'\n",
    "pc_2023['year'] = '2023'\n",
    "pc_2023['mc'] = 'pc'\n",
    "\n",
    "\n",
    "sp_2021_2023 = pd.concat([sp_2021, sp_2023])\n",
    "pc_2021_2023 = pd.concat([pc_2021, pc_2023])\n",
    "sp_2021_2023"
   ]
  },
  {
   "cell_type": "code",
   "execution_count": 40,
   "metadata": {},
   "outputs": [
    {
     "data": {
      "text/plain": [
       "<Axes: xlabel='스마트폰이용빈도', ylabel='교육'>"
      ]
     },
     "execution_count": 40,
     "metadata": {},
     "output_type": "execute_result"
    },
    {
     "data": {
      "image/png": "[encoded data removed]",
      "text/plain": [
       "<Figure size 900x600 with 1 Axes>"
      ]
     },
     "metadata": {},
     "output_type": "display_data"
    }
   ],
   "source": [
    "sns.barplot(data = sp_2021_2023, x='스마트폰이용빈도', y='교육', hue='year', order=['매일','종종','가끔'])"
   ]
  },
  {
   "cell_type": "code",
   "execution_count": 41,
   "metadata": {},
   "outputs": [
    {
     "data": {
      "text/plain": [
       "<Axes: xlabel='컴퓨터이용빈도', ylabel='교육'>"
      ]
     },
     "execution_count": 41,
     "metadata": {},
     "output_type": "execute_result"
    },
    {
     "data": {
      "image/png": "[encoded data removed]",
      "text/plain": [
       "<Figure size 900x600 with 1 Axes>"
      ]
     },
     "metadata": {},
     "output_type": "display_data"
    }
   ],
   "source": [
    "sns.barplot(data = pc_2021_2023, x='컴퓨터이용빈도', y='교육', hue='year', order=['매일','종종','가끔'])"
   ]
  },
  {
   "cell_type": "code",
   "execution_count": 222,
   "metadata": {},
   "outputs": [],
   "source": [
    "data_2021_1 = pd.read_csv('C:/Users/User/Downloads/자료/2021 서울 초등학교 도서관 대출정보/대출정보_2021년1월.csv', encoding='cp949')\n",
    "data_2021_2 = pd.read_csv('C:/Users/User/Downloads/자료/2021 서울 초등학교 도서관 대출정보/대출정보_2021년2월.csv', encoding='cp949')\n",
    "data_2021_3 = pd.read_csv('C:/Users/User/Downloads/자료/2021 서울 초등학교 도서관 대출정보/대출정보_2021년3월.csv', encoding='cp949')\n",
    "data_2021_4 = pd.read_csv('C:/Users/User/Downloads/자료/2021 서울 초등학교 도서관 대출정보/대출정보_2021년4-1월.csv', encoding='cp949')\n",
    "data_2021_5 = pd.read_csv('C:/Users/User/Downloads/자료/2021 서울 초등학교 도서관 대출정보/대출정보_2021년4-2월.csv', encoding='cp949')\n",
    "data_2021_6 = pd.read_csv('C:/Users/User/Downloads/자료/2021 서울 초등학교 도서관 대출정보/대출정보_2021년5-1월.csv', encoding='cp949')\n",
    "data_2021_7 = pd.read_csv('C:/Users/User/Downloads/자료/2021 서울 초등학교 도서관 대출정보/대출정보_2021년5-2월.csv', encoding='cp949')\n",
    "data_2021_8 = pd.read_csv('C:/Users/User/Downloads/자료/2021 서울 초등학교 도서관 대출정보/대출정보_2021년6-1월.csv', encoding='cp949')\n",
    "data_2021_9 = pd.read_csv('C:/Users/User/Downloads/자료/2021 서울 초등학교 도서관 대출정보/대출정보_2021년6-2월.csv', encoding='cp949')\n",
    "data_2021_10 = pd.read_csv('C:/Users/User/Downloads/자료/2021 서울 초등학교 도서관 대출정보/대출정보_2021년7월.csv', encoding='cp949')\n",
    "data_2021_11 = pd.read_csv('C:/Users/User/Downloads/자료/2021 서울 초등학교 도서관 대출정보/대출정보_2021년8월.csv', encoding='cp949')\n",
    "data_2021_12 = pd.read_csv('C:/Users/User/Downloads/자료/2021 서울 초등학교 도서관 대출정보/대출정보_2021년9월.csv', encoding='cp949')\n",
    "data_2021_13 = pd.read_csv('C:/Users/User/Downloads/자료/2021 서울 초등학교 도서관 대출정보/대출정보_2021년10월.csv', encoding='cp949')\n",
    "data_2021_14 = pd.read_csv('C:/Users/User/Downloads/자료/2021 서울 초등학교 도서관 대출정보/대출정보_2021년11-1월.csv', encoding='cp949')\n",
    "data_2021_15 = pd.read_csv('C:/Users/User/Downloads/자료/2021 서울 초등학교 도서관 대출정보/대출정보_2021년11-2월.csv', encoding='cp949')\n",
    "data_2021_16 = pd.read_csv('C:/Users/User/Downloads/자료/2021 서울 초등학교 도서관 대출정보/대출정보_2021년12월.csv', encoding='cp949')\n",
    "\n",
    "\n",
    "\n"
   ]
  },
  {
   "cell_type": "code",
   "execution_count": 227,
   "metadata": {},
   "outputs": [],
   "source": [
    "data_2023_1 = pd.read_csv('C:/Users/User/Downloads/자료/서울특별시교육청_서울 초등학교 도서관 대출정보_20231231 (1)/202301.csv')\n",
    "data_2023_2 = pd.read_csv('C:/Users/User/Downloads/자료/서울특별시교육청_서울 초등학교 도서관 대출정보_20231231 (1)/202302.csv')\n",
    "data_2023_3 = pd.read_csv('C:/Users/User/Downloads/자료/서울특별시교육청_서울 초등학교 도서관 대출정보_20231231 (1)/202303.csv')\n",
    "data_2023_4 = pd.read_csv('C:/Users/User/Downloads/자료/서울특별시교육청_서울 초등학교 도서관 대출정보_20231231 (1)/202304.csv')\n",
    "data_2023_5 = pd.read_csv('C:/Users/User/Downloads/자료/서울특별시교육청_서울 초등학교 도서관 대출정보_20231231 (1)/202305.csv')\n",
    "data_2023_6 = pd.read_csv('C:/Users/User/Downloads/자료/서울특별시교육청_서울 초등학교 도서관 대출정보_20231231 (1)/202306.csv')\n",
    "data_2023_7 = pd.read_csv('C:/Users/User/Downloads/자료/서울특별시교육청_서울 초등학교 도서관 대출정보_20231231 (1)/202307.csv')\n",
    "data_2023_8 = pd.read_csv('C:/Users/User/Downloads/자료/서울특별시교육청_서울 초등학교 도서관 대출정보_20231231 (1)/202308.csv')\n",
    "data_2023_9 = pd.read_csv('C:/Users/User/Downloads/자료/서울특별시교육청_서울 초등학교 도서관 대출정보_20231231 (1)/202309.csv')\n",
    "data_2023_10 = pd.read_csv('C:/Users/User/Downloads/자료/서울특별시교육청_서울 초등학교 도서관 대출정보_20231231 (1)/202310.csv')\n",
    "data_2023_11 = pd.read_csv('C:/Users/User/Downloads/자료/서울특별시교육청_서울 초등학교 도서관 대출정보_20231231 (1)/202311.csv')\n",
    "data_2023_12 = pd.read_csv('C:/Users/User/Downloads/자료/서울특별시교육청_서울 초등학교 도서관 대출정보_20231231 (1)/202312.csv')\n"
   ]
  },
  {
   "cell_type": "code",
   "execution_count": 228,
   "metadata": {},
   "outputs": [
    {
     "name": "stdout",
     "output_type": "stream",
     "text": [
      "8144595\n"
     ]
    }
   ],
   "source": [
    "result_2021 = 0\n",
    "for i in range(16):\n",
    "    result_2021 += globals()[f'data_2021_{i+1}'].__len__()\n",
    "print(result_2021)"
   ]
  },
  {
   "cell_type": "code",
   "execution_count": 229,
   "metadata": {},
   "outputs": [
    {
     "name": "stdout",
     "output_type": "stream",
     "text": [
      "9689260\n"
     ]
    }
   ],
   "source": [
    "result_2023 = 0\n",
    "for i in range(12):\n",
    "    result_2023 += globals()[f'data_2023_{i+1}'].__len__()\n",
    "print(result_2023)"
   ]
  },
  {
   "cell_type": "code",
   "execution_count": null,
   "metadata": {},
   "outputs": [],
   "source": []
  }
 ],
 "metadata": {
  "kernelspec": {
   "display_name": "ml-dev",
   "language": "python",
   "name": "python3"
  },
  "language_info": {
   "codemirror_mode": {
    "name": "ipython",
    "version": 3
   },
   "file_extension": ".py",
   "mimetype": "text/x-python",
   "name": "python",
   "nbconvert_exporter": "python",
   "pygments_lexer": "ipython3",
   "version": "3.10.13"
  }
 },
 "nbformat": 4,
 "nbformat_minor": 2
}
